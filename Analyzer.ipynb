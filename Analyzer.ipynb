{
 "cells": [
  {
   "cell_type": "code",
   "execution_count": 1,
   "metadata": {},
   "outputs": [],
   "source": [
    "# @InProceedings{maas-EtAl:2011:ACL-HLT2011,\n",
    "#   author    = {Maas, Andrew L.  and  Daly, Raymond E.  and  Pham, Peter T.  and  Huang, Dan  and  Ng, Andrew Y.  and  Potts, Christopher},\n",
    "#   title     = {Learning Word Vectors for Sentiment Analysis},\n",
    "#   booktitle = {Proceedings of the 49th Annual Meeting of the Association for Computational Linguistics: Human Language Technologies},\n",
    "#   month     = {June},\n",
    "#   year      = {2011},\n",
    "#   address   = {Portland, Oregon, USA},\n",
    "#   publisher = {Association for Computational Linguistics},\n",
    "#   pages     = {142--150},\n",
    "#   url       = {http://www.aclweb.org/anthology/P11-1015}\n",
    "# }"
   ]
  },
  {
   "cell_type": "code",
   "execution_count": 2,
   "metadata": {},
   "outputs": [],
   "source": [
    "from sklearn.feature_extraction.text import CountVectorizer\n",
    "from sklearn.feature_extraction.text import TfidfVectorizer\n",
    "from sklearn.feature_extraction.text import TfidfTransformer\n",
    "from sklearn.datasets import load_svmlight_files\n",
    "from sklearn.metrics import accuracy_score\n",
    "from sklearn.naive_bayes import MultinomialNB\n",
    "from sklearn.linear_model import Perceptron \n",
    "from sklearn import metrics \n",
    "import numpy as np\n",
    "import os \n",
    "import re "
   ]
  },
  {
   "cell_type": "markdown",
   "metadata": {},
   "source": [
    "## Part 1 \n",
    "I use the bag of words that are included in the daset to test Naive Bayes and Perceptron algorithms "
   ]
  },
  {
   "cell_type": "code",
   "execution_count": 3,
   "metadata": {},
   "outputs": [],
   "source": [
    "def load_files(files):\n",
    "    return load_svmlight_files(files, n_features = None, dtype = None)"
   ]
  },
  {
   "cell_type": "code",
   "execution_count": 4,
   "metadata": {},
   "outputs": [],
   "source": [
    "# Calculating Tf-Idf fot traing and testing , Tf-Idf -> Term frequency - Inverce document frequency\n",
    "\n",
    "def tfidf(x_train, x_test):\n",
    "    tf_transformer = TfidfTransformer()\n",
    "\n",
    "    #  It computes the TF for each review, the IDF using each review, and finally the TF-IDF for each review\n",
    "    x_train_tfidf = tf_transformer.fit_transform(x_train)\n",
    "    #print(training_data_tfidf.shape)\n",
    "\n",
    "    # .transform on the testing data which computes the TF for each review, \n",
    "    # then the TF-IDF for each review using the IDF from the training data \n",
    "    x_test_tfidf = tf_transformer.transform(x_test)\n",
    "    #print(testing_data_tfidf.shape)\n",
    "\n",
    "    return [x_train_tfidf, x_test_tfidf]"
   ]
  },
  {
   "cell_type": "code",
   "execution_count": 5,
   "metadata": {},
   "outputs": [],
   "source": [
    "# Binerize target data, coverting target data into binary\n",
    "\n",
    "def binerize(target):\n",
    "    binerize_target = []\n",
    "    for i in range (len(target)):\n",
    "        if target[i] > 6:\n",
    "            binerize_target.append(1) # positive comment\n",
    "        else: \n",
    "            binerize_target.append(0) # negative comment\n",
    "    return binerize_target"
   ]
  },
  {
   "cell_type": "code",
   "execution_count": 6,
   "metadata": {},
   "outputs": [],
   "source": [
    "# Train and Test with the classifier (clf)\n",
    "def classifie(clf,  x_train, y_train, x_test, y_test):\n",
    "\n",
    "    y_train = binerize(y_train)\n",
    "    y_test = binerize(y_test)\n",
    "\n",
    "    clf.fit(x_train, y_train)\n",
    "    accuracy = clf.score(x_test, y_test) *100\n",
    "    \n",
    "    confusion_matrix = metrics.confusion_matrix(y_test, clf.predict(x_test) )\n",
    "    \n",
    "    return [round(accuracy,2), confusion_matrix]"
   ]
  },
  {
   "cell_type": "code",
   "execution_count": 7,
   "metadata": {
    "scrolled": true
   },
   "outputs": [
    {
     "name": "stdout",
     "output_type": "stream",
     "text": [
      "Naive Bayes Accuracy =  83.04\n",
      "\n",
      " [[11125  1375]\n",
      " [ 2864  9636]]\n",
      "\n",
      "Perceptron Accuracy =  84.92\n",
      "\n",
      " [[10944  1556]\n",
      " [ 2213 10287]]\n"
     ]
    }
   ],
   "source": [
    "        \n",
    "files = [\"data/aclImdb/train/labeledBow.feat\",\"data/aclImdb/test/labeledBow.feat\"]\n",
    "\n",
    "# Load data for training_data, training_target and testing_data, testing_target \n",
    "x_train, y_train, x_test, y_test = load_files(files)\n",
    "\n",
    "# Count tf-idf for training and testing data\n",
    "tfidf_data = tfidf(x_train, x_test)\n",
    "\n",
    "x_train = tfidf_data[0]\n",
    "x_test = tfidf_data[1]\n",
    "\n",
    "result = classifie(MultinomialNB(), x_train, y_train, x_test, y_test)\n",
    "print(\"Naive Bayes Accuracy = \", result[0])\n",
    "print(\"\\n\",result[1])\n",
    "\n",
    "result = classifie(Perceptron(), x_train, y_train, x_test, y_test)\n",
    "print(\"\\nPerceptron Accuracy = \", result[0])\n",
    "print(\"\\n\",result[1])\n",
    "\n",
    "#cm = result[1] "
   ]
  },
  {
   "cell_type": "markdown",
   "metadata": {},
   "source": [
    "# Part 2 \n",
    "I create my own bag of words using the .txt files included in the dataset, then i test Naive Bayes and Perceptron algorithms"
   ]
  },
  {
   "cell_type": "code",
   "execution_count": 8,
   "metadata": {},
   "outputs": [],
   "source": [
    "# Read the input line from the input path \n",
    "def load_input(path):\n",
    "    result = []\n",
    "    files = os.listdir(path)\n",
    "    for f in files:\n",
    "        for line in open(f\"{path}/{f}\", 'r',  encoding='utf-8'):\n",
    "            result.append(line.strip())\n",
    "    \n",
    "    \n",
    "    return result\n",
    "\n",
    "\n",
    "x_train = []\n",
    "x_train += load_input('data/aclImdb/train/pos')\n",
    "x_train += load_input('data/aclImdb/train/neg')\n",
    "\n",
    "x_test = []\n",
    "x_test += load_input('data/aclImdb/test/pos')\n",
    "x_test += load_input('data/aclImdb/test/neg')"
   ]
  },
  {
   "cell_type": "code",
   "execution_count": 9,
   "metadata": {},
   "outputs": [],
   "source": [
    "REPLACE_NO_SPACE = re.compile(\"[.;:!\\'?,\\\"()\\[\\]]\")\n",
    "REPLACE_WITH_SPACE = re.compile(\"(<br\\s*/><br\\s*/>)|(\\-)|(\\/)\")\n",
    "\n",
    "# Preprocess deleting special characters numbers and punctuations \n",
    "def preprocess_reviews(reviews):\n",
    "    reviews = [REPLACE_NO_SPACE.sub(\"\", line.lower()) for line in reviews]\n",
    "    reviews = [REPLACE_WITH_SPACE.sub(\" \", line) for line in reviews]\n",
    "    \n",
    "    return reviews\n",
    "\n",
    "x_train = preprocess_reviews(x_train)\n",
    "x_test = preprocess_reviews(x_test)"
   ]
  },
  {
   "cell_type": "code",
   "execution_count": 10,
   "metadata": {},
   "outputs": [],
   "source": [
    "# Trasforming text \n",
    "#cv = CountVectorize(binary = True)\n",
    "vectorizer = TfidfVectorizer(binary = True, \n",
    "                            analyzer = 'word', \n",
    "                            max_df = 0.9, \n",
    "                            ngram_range= (1,2))\n",
    "vectorizer.fit(x_train)\n",
    "X_train = vectorizer.transform(x_train)\n",
    "X_test = vectorizer.transform(x_test)"
   ]
  },
  {
   "cell_type": "code",
   "execution_count": 11,
   "metadata": {
    "scrolled": true
   },
   "outputs": [
    {
     "name": "stdout",
     "output_type": "stream",
     "text": [
      "Naive Bayes Accuracy: 87.58\n",
      "\n",
      " [[11432  1068]\n",
      " [ 2037 10463]]\n",
      "\n",
      "Perceptron Accuracy: 88.69200000000001\n",
      "\n",
      " [[11028  1472]\n",
      " [ 1355 11145]]\n"
     ]
    }
   ],
   "source": [
    "# Train and test have same target (label)\n",
    "target = [1 if i < 12500 else 0 for i in range(25000)]\n",
    "\n",
    "model1 = MultinomialNB()\n",
    "model1.fit(X_train, target)\n",
    "accuracy = accuracy_score(target, model1.predict(X_test))\n",
    "print (\"Naive Bayes Accuracy:\", accuracy*100)\n",
    "c1 = metrics.confusion_matrix(target, model1.predict(X_test))\n",
    "print(\"\\n\",c1)\n",
    "\n",
    "model2 = Perceptron()\n",
    "model2.fit(X_train, target)\n",
    "accuracy = accuracy_score(target, model2.predict(X_test))\n",
    "c2 = metrics.confusion_matrix(target, model2.predict(X_test))\n",
    "print (\"\\nPerceptron Accuracy:\", accuracy*100)\n",
    "print(\"\\n\", c2)\n"
   ]
  },
  {
   "cell_type": "markdown",
   "metadata": {},
   "source": [
    "## Plot Confusion Matrix"
   ]
  },
  {
   "cell_type": "code",
   "execution_count": 12,
   "metadata": {},
   "outputs": [
    {
     "data": {
      "text/plain": [
       "Text(0.5, 0, 'Predicted label')"
      ]
     },
     "execution_count": 12,
     "metadata": {},
     "output_type": "execute_result"
    },
    {
     "data": {
      "image/png": "[encoded data removed]",
      "text/plain": [
       "<Figure size 432x288 with 2 Axes>"
      ]
     },
     "metadata": {
      "needs_background": "light"
     },
     "output_type": "display_data"
    }
   ],
   "source": [
    "import matplotlib.pyplot as plt \n",
    "import itertools \n",
    "labels = ['Negative', 'Positive']\n",
    "\n",
    "cm = c2 #change the cunfusion matrix (cf) to plot other models \n",
    "cmap = plt.cm.Greens\n",
    "cm.astype('int64')\n",
    "\n",
    "plt.imshow(cm, interpolation = 'nearest', cmap = cmap)\n",
    "plt.title = ('Confuzion Matrix')\n",
    "plt.colorbar()\n",
    "tick_marks = np.arange(len(labels))\n",
    "plt.xticks(tick_marks, labels, rotation = 45)\n",
    "plt.yticks(tick_marks, labels)\n",
    "\n",
    "thresh = cm.max() / 2.\n",
    "for i, j in itertools.product(range(cm.shape[0]), range(cm.shape[1])):\n",
    "     plt.text(j, i, format(cm[i, j]),\n",
    "             horizontalalignment=\"center\",\n",
    "            color=\"white\" if cm[i, j] > thresh else \"black\")\n",
    "\n",
    "\n",
    "plt.suptitle('Naive Bayes')\n",
    "plt.ylabel('True label')\n",
    "plt.xlabel('Predicted label')\n",
    "#plt.savefig('grafici/e2_Perceptron')\n"
   ]
  }
 ],
 "metadata": {
  "kernelspec": {
   "display_name": "Python 3",
   "language": "python",
   "name": "python3"
  },
  "language_info": {
   "codemirror_mode": {
    "name": "ipython",
    "version": 3
   },
   "file_extension": ".py",
   "mimetype": "text/x-python",
   "name": "python",
   "nbconvert_exporter": "python",
   "pygments_lexer": "ipython3",
   "version": "3.8.2"
  }
 },
 "nbformat": 4,
 "nbformat_minor": 4
}
